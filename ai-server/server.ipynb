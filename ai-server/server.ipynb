{
  "cells": [
    {
      "cell_type": "code",
      "execution_count": null,
      "metadata": {
        "colab": {
          "base_uri": "https://localhost:8080/"
        },
        "id": "PklEy20_g9-C",
        "outputId": "cf380c2c-b0ac-4047-8ed9-2b2e9457978a"
      },
      "outputs": [
        {
          "name": "stdout",
          "output_type": "stream",
          "text": [
            "Requirement already satisfied: fastapi in /usr/local/lib/python3.11/dist-packages (0.116.1)\n",
            "Requirement already satisfied: pyngrok in /usr/local/lib/python3.11/dist-packages (7.3.0)\n",
            "Requirement already satisfied: torch in /usr/local/lib/python3.11/dist-packages (2.6.0+cu124)\n",
            "Requirement already satisfied: transformers in /usr/local/lib/python3.11/dist-packages (4.55.0)\n",
            "Requirement already satisfied: peft in /usr/local/lib/python3.11/dist-packages (0.17.0)\n",
            "Requirement already satisfied: pandas in /usr/local/lib/python3.11/dist-packages (2.2.2)\n",
            "Requirement already satisfied: accelerate in /usr/local/lib/python3.11/dist-packages (1.10.0)\n",
            "Requirement already satisfied: huggingface_hub in /usr/local/lib/python3.11/dist-packages (0.34.4)\n",
            "Requirement already satisfied: uvicorn[standard] in /usr/local/lib/python3.11/dist-packages (0.35.0)\n",
            "Requirement already satisfied: starlette<0.48.0,>=0.40.0 in /usr/local/lib/python3.11/dist-packages (from fastapi) (0.47.2)\n",
            "Requirement already satisfied: pydantic!=1.8,!=1.8.1,!=2.0.0,!=2.0.1,!=2.1.0,<3.0.0,>=1.7.4 in /usr/local/lib/python3.11/dist-packages (from fastapi) (2.11.7)\n",
            "Requirement already satisfied: typing-extensions>=4.8.0 in /usr/local/lib/python3.11/dist-packages (from fastapi) (4.14.1)\n",
            "Requirement already satisfied: click>=7.0 in /usr/local/lib/python3.11/dist-packages (from uvicorn[standard]) (8.2.1)\n",
            "Requirement already satisfied: h11>=0.8 in /usr/local/lib/python3.11/dist-packages (from uvicorn[standard]) (0.16.0)\n",
            "Requirement already satisfied: httptools>=0.6.3 in /usr/local/lib/python3.11/dist-packages (from uvicorn[standard]) (0.6.4)\n",
            "Requirement already satisfied: python-dotenv>=0.13 in /usr/local/lib/python3.11/dist-packages (from uvicorn[standard]) (1.1.1)\n",
            "Requirement already satisfied: pyyaml>=5.1 in /usr/local/lib/python3.11/dist-packages (from uvicorn[standard]) (6.0.2)\n",
            "Requirement already satisfied: uvloop>=0.15.1 in /usr/local/lib/python3.11/dist-packages (from uvicorn[standard]) (0.21.0)\n",
            "Requirement already satisfied: watchfiles>=0.13 in /usr/local/lib/python3.11/dist-packages (from uvicorn[standard]) (1.1.0)\n",
            "Requirement already satisfied: websockets>=10.4 in /usr/local/lib/python3.11/dist-packages (from uvicorn[standard]) (15.0.1)\n",
            "Requirement already satisfied: filelock in /usr/local/lib/python3.11/dist-packages (from torch) (3.18.0)\n",
            "Requirement already satisfied: networkx in /usr/local/lib/python3.11/dist-packages (from torch) (3.5)\n",
            "Requirement already satisfied: jinja2 in /usr/local/lib/python3.11/dist-packages (from torch) (3.1.6)\n",
            "Requirement already satisfied: fsspec in /usr/local/lib/python3.11/dist-packages (from torch) (2025.3.0)\n",
            "Requirement already satisfied: nvidia-cuda-nvrtc-cu12==12.4.127 in /usr/local/lib/python3.11/dist-packages (from torch) (12.4.127)\n",
            "Requirement already satisfied: nvidia-cuda-runtime-cu12==12.4.127 in /usr/local/lib/python3.11/dist-packages (from torch) (12.4.127)\n",
            "Requirement already satisfied: nvidia-cuda-cupti-cu12==12.4.127 in /usr/local/lib/python3.11/dist-packages (from torch) (12.4.127)\n",
            "Requirement already satisfied: nvidia-cudnn-cu12==9.1.0.70 in /usr/local/lib/python3.11/dist-packages (from torch) (9.1.0.70)\n",
            "Requirement already satisfied: nvidia-cublas-cu12==12.4.5.8 in /usr/local/lib/python3.11/dist-packages (from torch) (12.4.5.8)\n",
            "Requirement already satisfied: nvidia-cufft-cu12==11.2.1.3 in /usr/local/lib/python3.11/dist-packages (from torch) (11.2.1.3)\n",
            "Requirement already satisfied: nvidia-curand-cu12==10.3.5.147 in /usr/local/lib/python3.11/dist-packages (from torch) (10.3.5.147)\n",
            "Requirement already satisfied: nvidia-cusolver-cu12==11.6.1.9 in /usr/local/lib/python3.11/dist-packages (from torch) (11.6.1.9)\n",
            "Requirement already satisfied: nvidia-cusparse-cu12==12.3.1.170 in /usr/local/lib/python3.11/dist-packages (from torch) (12.3.1.170)\n",
            "Requirement already satisfied: nvidia-cusparselt-cu12==0.6.2 in /usr/local/lib/python3.11/dist-packages (from torch) (0.6.2)\n",
            "Requirement already satisfied: nvidia-nccl-cu12==2.21.5 in /usr/local/lib/python3.11/dist-packages (from torch) (2.21.5)\n",
            "Requirement already satisfied: nvidia-nvtx-cu12==12.4.127 in /usr/local/lib/python3.11/dist-packages (from torch) (12.4.127)\n",
            "Requirement already satisfied: nvidia-nvjitlink-cu12==12.4.127 in /usr/local/lib/python3.11/dist-packages (from torch) (12.4.127)\n",
            "Requirement already satisfied: triton==3.2.0 in /usr/local/lib/python3.11/dist-packages (from torch) (3.2.0)\n",
            "Requirement already satisfied: sympy==1.13.1 in /usr/local/lib/python3.11/dist-packages (from torch) (1.13.1)\n",
            "Requirement already satisfied: mpmath<1.4,>=1.1.0 in /usr/local/lib/python3.11/dist-packages (from sympy==1.13.1->torch) (1.3.0)\n",
            "Requirement already satisfied: numpy>=1.17 in /usr/local/lib/python3.11/dist-packages (from transformers) (2.0.2)\n",
            "Requirement already satisfied: packaging>=20.0 in /usr/local/lib/python3.11/dist-packages (from transformers) (25.0)\n",
            "Requirement already satisfied: regex!=2019.12.17 in /usr/local/lib/python3.11/dist-packages (from transformers) (2024.11.6)\n",
            "Requirement already satisfied: requests in /usr/local/lib/python3.11/dist-packages (from transformers) (2.32.3)\n",
            "Requirement already satisfied: tokenizers<0.22,>=0.21 in /usr/local/lib/python3.11/dist-packages (from transformers) (0.21.4)\n",
            "Requirement already satisfied: safetensors>=0.4.3 in /usr/local/lib/python3.11/dist-packages (from transformers) (0.6.2)\n",
            "Requirement already satisfied: tqdm>=4.27 in /usr/local/lib/python3.11/dist-packages (from transformers) (4.67.1)\n",
            "Requirement already satisfied: psutil in /usr/local/lib/python3.11/dist-packages (from peft) (5.9.5)\n",
            "Requirement already satisfied: python-dateutil>=2.8.2 in /usr/local/lib/python3.11/dist-packages (from pandas) (2.9.0.post0)\n",
            "Requirement already satisfied: pytz>=2020.1 in /usr/local/lib/python3.11/dist-packages (from pandas) (2025.2)\n",
            "Requirement already satisfied: tzdata>=2022.7 in /usr/local/lib/python3.11/dist-packages (from pandas) (2025.2)\n",
            "Requirement already satisfied: hf-xet<2.0.0,>=1.1.3 in /usr/local/lib/python3.11/dist-packages (from huggingface_hub) (1.1.7)\n",
            "Requirement already satisfied: annotated-types>=0.6.0 in /usr/local/lib/python3.11/dist-packages (from pydantic!=1.8,!=1.8.1,!=2.0.0,!=2.0.1,!=2.1.0,<3.0.0,>=1.7.4->fastapi) (0.7.0)\n",
            "Requirement already satisfied: pydantic-core==2.33.2 in /usr/local/lib/python3.11/dist-packages (from pydantic!=1.8,!=1.8.1,!=2.0.0,!=2.0.1,!=2.1.0,<3.0.0,>=1.7.4->fastapi) (2.33.2)\n",
            "Requirement already satisfied: typing-inspection>=0.4.0 in /usr/local/lib/python3.11/dist-packages (from pydantic!=1.8,!=1.8.1,!=2.0.0,!=2.0.1,!=2.1.0,<3.0.0,>=1.7.4->fastapi) (0.4.1)\n",
            "Requirement already satisfied: six>=1.5 in /usr/local/lib/python3.11/dist-packages (from python-dateutil>=2.8.2->pandas) (1.17.0)\n",
            "Requirement already satisfied: anyio<5,>=3.6.2 in /usr/local/lib/python3.11/dist-packages (from starlette<0.48.0,>=0.40.0->fastapi) (4.10.0)\n",
            "Requirement already satisfied: MarkupSafe>=2.0 in /usr/local/lib/python3.11/dist-packages (from jinja2->torch) (3.0.2)\n",
            "Requirement already satisfied: charset-normalizer<4,>=2 in /usr/local/lib/python3.11/dist-packages (from requests->transformers) (3.4.3)\n",
            "Requirement already satisfied: idna<4,>=2.5 in /usr/local/lib/python3.11/dist-packages (from requests->transformers) (3.10)\n",
            "Requirement already satisfied: urllib3<3,>=1.21.1 in /usr/local/lib/python3.11/dist-packages (from requests->transformers) (2.5.0)\n",
            "Requirement already satisfied: certifi>=2017.4.17 in /usr/local/lib/python3.11/dist-packages (from requests->transformers) (2025.8.3)\n",
            "Requirement already satisfied: sniffio>=1.1 in /usr/local/lib/python3.11/dist-packages (from anyio<5,>=3.6.2->starlette<0.48.0,>=0.40.0->fastapi) (1.3.1)\n"
          ]
        }
      ],
      "source": [
        "# 1. 필수 라이브러리 설치\n",
        "!pip install fastapi \"uvicorn[standard]\" pyngrok torch transformers peft pandas accelerate huggingface_hub\n",
        "\n"
      ]
    },
    {
      "cell_type": "code",
      "execution_count": null,
      "metadata": {
        "colab": {
          "base_uri": "https://localhost:8080/"
        },
        "id": "2rw7pEOUhrad",
        "outputId": "9d088bcc-7d34-41fe-cf6e-c7cab47bfb6a"
      },
      "outputs": [
        {
          "name": "stdout",
          "output_type": "stream",
          "text": [
            "--- 📂 1/3: serve.py 파일 업로드 ---\n",
            "serve.py가 이미 존재합니다.\n",
            "\n",
            "--- 📂 2/3: styles.csv 파일 업로드 ---\n",
            "styles.csv가 이미 존재합니다.\n",
            "\n",
            "--- 📂 3/3: gemma-fashion-tuner-final.zip 파일 업로드 ---\n",
            "gemma-fashion-tuner-final.zip이 이미 존재합니다.\n"
          ]
        }
      ],
      "source": [
        "# 2. 파일 업로드\n",
        "from google.colab import files\n",
        "import os\n",
        "\n",
        "print(\"--- 📂 1/3: serve.py 파일 업로드 ---\")\n",
        "if not os.path.exists('serve.py'):\n",
        "    files.upload()\n",
        "else:\n",
        "    print(\"serve.py가 이미 존재합니다.\")\n",
        "\n",
        "print(\"\\n--- 📂 2/3: styles.csv 파일 업로드 ---\")\n",
        "if not os.path.exists('styles.csv'):\n",
        "    files.upload()\n",
        "else:\n",
        "    print(\"styles.csv가 이미 존재합니다.\")\n",
        "\n",
        "print(\"\\n--- 📂 3/3: gemma-fashion-tuner-final.zip 파일 업로드 ---\")\n",
        "if not os.path.exists('gemma-fashion-tuner-final.zip'):\n",
        "    files.upload()\n",
        "else:\n",
        "    print(\"gemma-fashion-tuner-final.zip이 이미 존재합니다.\")\n"
      ]
    },
    {
      "cell_type": "code",
      "execution_count": null,
      "metadata": {
        "id": "nZukmkpQhuk6"
      },
      "outputs": [],
      "source": [
        "# 3. 모델 폴더 압축 해제\n",
        "!unzip -q -o gemma-fashion-tuner-final.zip # -o 옵션으로 덮어쓰기 허용\n"
      ]
    },
    {
      "cell_type": "code",
      "execution_count": null,
      "metadata": {
        "colab": {
          "base_uri": "https://localhost:8080/",
          "height": 68,
          "referenced_widgets": [
            "dc2d4501d8e84f94a5d2c89de6348b13",
            "6cd77438ae5a4b3d8b73b75712fa4b90"
          ]
        },
        "id": "JdlrXIiKh0su",
        "outputId": "085e9a0c-8aa4-4299-b384-abc41d156f80"
      },
      "outputs": [
        {
          "name": "stdout",
          "output_type": "stream",
          "text": [
            "\n",
            "--- 🔐 Hugging Face 로그인이 필요합니다 ---\n"
          ]
        },
        {
          "data": {
            "application/vnd.jupyter.widget-view+json": {
              "model_id": "dc2d4501d8e84f94a5d2c89de6348b13",
              "version_major": 2,
              "version_minor": 0
            },
            "text/plain": [
              "VBox(children=(HTML(value='<center> <img\\nsrc=https://huggingface.co/front/assets/huggingface_logo-noborder.sv…"
            ]
          },
          "metadata": {},
          "output_type": "display_data"
        },
        {
          "name": "stdout",
          "output_type": "stream",
          "text": [
            "✅ 로그인 성공!\n"
          ]
        }
      ],
      "source": [
        "# 4. 🚨 Hugging Face 로그인 (새로 추가된 가장 중요한 단계)\n",
        "from huggingface_hub import login\n",
        "\n",
        "print(\"\\n--- 🔐 Hugging Face 로그인이 필요합니다 ---\")\n",
        "# 이 코드를 실행하면 Hugging Face Access Token을 입력하라는 창이 나타납니다.\n",
        "login()\n",
        "print(\"✅ 로그인 성공!\")\n"
      ]
    },
    {
      "cell_type": "code",
      "execution_count": null,
      "metadata": {
        "colab": {
          "base_uri": "https://localhost:8080/"
        },
        "id": "XUSxvFeSh412",
        "outputId": "03d33be2-fd90-4138-a9cf-ae2ff5c9a606"
      },
      "outputs": [
        {
          "name": "stdout",
          "output_type": "stream",
          "text": [
            "\n",
            "✅ FastAPI 서버가 백그라운드에서 실행을 시작했습니다...\n"
          ]
        }
      ],
      "source": [
        "# 5. 서버를 백그라운드 스레드에서 실행\n",
        "import threading\n",
        "import uvicorn\n",
        "import time\n",
        "import requests\n",
        "\n",
        "def run_app():\n",
        "  # serve.py를 직접 실행하는 대신, 여기서 uvicorn을 실행합니다.\n",
        "  uvicorn.run(\"serve:app\", host=\"0.0.0.0\", port=8000, log_level=\"info\")\n",
        "\n",
        "thread = threading.Thread(target=run_app)\n",
        "thread.start()\n",
        "print(\"\\n✅ FastAPI 서버가 백그라운드에서 실행을 시작했습니다...\")\n"
      ]
    },
    {
      "cell_type": "code",
      "execution_count": null,
      "metadata": {
        "colab": {
          "background_save": true,
          "base_uri": "https://localhost:8080/",
          "height": 919,
          "referenced_widgets": [
            "6f369208e4334d17bccc9a1f3edb01a8",
            "2eb89f97603045288d59c9cfa01094e4",
            "df583afa8c774bf2b0dfef38b5856d11",
            "8ea239e4d5f849f2942fb702ce7dd759",
            "6f4d191629b240608e7195a26fff22e0",
            "08cf69f6809b45579d30c27cfa547e48",
            "82b976fe8eb848738ec3af031a238d94",
            "c846bb6d19c5483fa3641bd6bda7e217",
            "122ba55d0096474795a66df47c9a8a23",
            "e2f4ad454af546b5a25e3591c71e7c8f",
            "bfc44d950d4646598e5006b915da6eae"
          ]
        },
        "id": "3NHS2of2otvR",
        "outputId": "f131360a-0aac-4d14-b249-74ae1c18115f"
      },
      "outputs": [
        {
          "name": "stdout",
          "output_type": "stream",
          "text": [
            "⏳ 서버가 모델을 로딩하고 준비될 때까지 대기 중입니다... (최대 10분)\n",
            "...\n",
            "✅ Colab GPU 환경에서 모델 로딩을 시작합니다...\n",
            "✅ 사용할 장치: CUDA\n",
            "...\n"
          ]
        },
        {
          "name": "stderr",
          "output_type": "stream",
          "text": [
            "/usr/local/lib/python3.11/dist-packages/huggingface_hub/utils/_auth.py:94: UserWarning: \n",
            "The secret `HF_TOKEN` does not exist in your Colab secrets.\n",
            "To authenticate with the Hugging Face Hub, create a token in your settings tab (https://huggingface.co/settings/tokens), set it as secret in your Google Colab and restart your session.\n",
            "You will be able to reuse this secret in all of your notebooks.\n",
            "Please note that authentication is recommended but still optional to access public models or datasets.\n",
            "  warnings.warn(\n"
          ]
        },
        {
          "data": {
            "application/vnd.jupyter.widget-view+json": {
              "model_id": "6f369208e4334d17bccc9a1f3edb01a8",
              "version_major": 2,
              "version_minor": 0
            },
            "text/plain": [
              "Loading checkpoint shards:   0%|          | 0/2 [00:00<?, ?it/s]"
            ]
          },
          "metadata": {},
          "output_type": "display_data"
        },
        {
          "name": "stdout",
          "output_type": "stream",
          "text": [
            "...\n",
            "...\n",
            "...\n",
            "...\n",
            "✅ 모델 및 토크나이저 로딩 완료!\n"
          ]
        },
        {
          "name": "stderr",
          "output_type": "stream",
          "text": [
            "INFO:     Started server process [12591]\n",
            "INFO:     Waiting for application startup.\n",
            "INFO:     Application startup complete.\n",
            "INFO:     Uvicorn running on http://0.0.0.0:8000 (Press CTRL+C to quit)\n"
          ]
        },
        {
          "name": "stdout",
          "output_type": "stream",
          "text": [
            "✅ styles.csv 로드 완료!\n",
            "...\n",
            "INFO:     127.0.0.1:58142 - \"GET / HTTP/1.1\" 404 Not Found\n",
            "✅ 서버가 응답하기 시작했습니다!\n",
            "\n",
            "🎉 서버가 성공적으로 생성되었습니다. API 주소: NgrokTunnel: \"https://11119ada0da0.ngrok-free.app\" -> \"http://localhost:8000\"\n",
            "이제 이 주소를 test_api.py에 넣고 로컬에서 테스트를 실행하세요.\n",
            "INFO:     27.0.238.117:0 - \"GET / HTTP/1.1\" 404 Not Found\n",
            "INFO:     27.0.238.186:0 - \"GET / HTTP/1.1\" 404 Not Found\n",
            "INFO:     27.0.238.186:0 - \"GET / HTTP/1.1\" 404 Not Found\n",
            "INFO:     27.0.238.69:0 - \"GET / HTTP/1.1\" 404 Not Found\n",
            "INFO:     183.103.168.167:0 - \"OPTIONS /recommend_outfit HTTP/1.1\" 405 Method Not Allowed\n",
            "INFO:     183.103.168.167:0 - \"OPTIONS /recommend_outfit HTTP/1.1\" 405 Method Not Allowed\n",
            "INFO:     183.103.168.167:0 - \"POST /recommend_outfit HTTP/1.1\" 200 OK\n",
            "INFO:     211.231.103.92:0 - \"GET / HTTP/1.1\" 404 Not Found\n",
            "INFO:     27.0.238.114:0 - \"GET / HTTP/1.1\" 404 Not Found\n",
            "INFO:     211.231.103.94:0 - \"GET / HTTP/1.1\" 404 Not Found\n",
            "INFO:     27.0.238.69:0 - \"GET / HTTP/1.1\" 404 Not Found\n",
            "INFO:     27.0.238.69:0 - \"GET / HTTP/1.1\" 404 Not Found\n",
            "INFO:     211.231.103.105:0 - \"GET / HTTP/1.1\" 404 Not Found\n",
            "INFO:     27.0.238.114:0 - \"GET / HTTP/1.1\" 404 Not Found\n",
            "INFO:     27.0.238.114:0 - \"GET / HTTP/1.1\" 404 Not Found\n",
            "INFO:     27.0.238.187:0 - \"GET / HTTP/1.1\" 404 Not Found\n",
            "INFO:     27.0.238.116:0 - \"GET / HTTP/1.1\" 404 Not Found\n",
            "INFO:     183.103.168.167:0 - \"POST /recommend_outfit HTTP/1.1\" 200 OK\n",
            "INFO:     27.0.238.118:0 - \"GET / HTTP/1.1\" 404 Not Found\n",
            "INFO:     211.231.103.105:0 - \"GET / HTTP/1.1\" 404 Not Found\n",
            "INFO:     183.103.168.167:0 - \"POST /recommend_outfit HTTP/1.1\" 200 OK\n",
            "INFO:     183.103.168.167:0 - \"POST /recommend_outfit HTTP/1.1\" 200 OK\n",
            "INFO:     183.103.168.167:0 - \"POST /recommend_outfit HTTP/1.1\" 200 OK\n",
            "INFO:     211.231.103.104:0 - \"GET / HTTP/1.1\" 404 Not Found\n",
            "INFO:     27.0.238.116:0 - \"GET / HTTP/1.1\" 404 Not Found\n",
            "INFO:     27.0.238.69:0 - \"GET / HTTP/1.1\" 404 Not Found\n"
          ]
        }
      ],
      "source": [
        "# 6. ❗ 서버가 켜질 때까지 똑똑하게 기다리기 (Health Check)\n",
        "print(\"⏳ 서버가 모델을 로딩하고 준비될 때까지 대기 중입니다... (최대 10분)\")\n",
        "start_time = time.time()\n",
        "server_ready = False\n",
        "while time.time() - start_time < 600: # 최대 10분 대기\n",
        "    try:\n",
        "        # Colab 내부에서 서버에 직접 요청을 보내봅니다.\n",
        "        response = requests.get(\"http://localhost:8000/\", timeout=5)\n",
        "        # 404 응답이라도 서버가 켜졌다는 신호이므로 성공입니다.\n",
        "        if response.status_code == 404:\n",
        "            print(\"✅ 서버가 응답하기 시작했습니다!\")\n",
        "            server_ready = True\n",
        "            break\n",
        "    except requests.exceptions.ConnectionError:\n",
        "        # 아직 연결이 거부되면 5초 후 다시 시도합니다.\n",
        "        time.sleep(5)\n",
        "        print(\"...\")\n",
        "\n",
        "if not server_ready:\n",
        "    print(\"❌ 10분이 지나도 서버가 준비되지 않았습니다. 런타임을 재시작하고 다시 시도해주세요.\")\n",
        "else:\n",
        "    # 7. ngrok으로 외부 접속 터널 생성\n",
        "    from pyngrok import ngrok\n",
        "\n",
        "    # https://dashboard.ngrok.com/get-started/your-authtoken 에서 토큰을 복사하여 붙여넣으세요.\n",
        "    NGROK_TOKEN = \"31HHkLEWGt90qDRoAWd6BqiGL9K_5fJsXN7LgijbtcAVwkwAS\" # 🚨\n",
        "    ngrok.set_auth_token(NGROK_TOKEN)\n",
        "\n",
        "    ngrok.kill() # 이전에 실행중인 ngrok 터널이 있다면 모두 종료\n",
        "\n",
        "    public_url = ngrok.connect(8000)\n",
        "    print(f\"\\n🎉 서버가 성공적으로 생성되었습니다. API 주소: {public_url}\")\n",
        "    print(\"이제 이 주소를 test_api.py에 넣고 로컬에서 테스트를 실행하세요.\")\n",
        "\n",
        "# Colab 세션이 끝나지 않도록 스레드가 끝날 때까지 대기\n",
        "thread.join()"
      ]
    }
  ],
  "metadata": {
    "accelerator": "GPU",
    "colab": {
      "gpuType": "T4",
      "provenance": []
    },
    "kernelspec": {
      "display_name": "Python 3",
      "name": "python3"
    },
    "language_info": {
      "name": "python"
    },
    "widgets": {
      "application/vnd.jupyter.widget-state+json": {
        "08cf69f6809b45579d30c27cfa547e48": {
          "model_module": "@jupyter-widgets/base",
          "model_module_version": "1.2.0",
          "model_name": "LayoutModel",
          "state": {
            "_model_module": "@jupyter-widgets/base",
            "_model_module_version": "1.2.0",
            "_model_name": "LayoutModel",
            "_view_count": null,
            "_view_module": "@jupyter-widgets/base",
            "_view_module_version": "1.2.0",
            "_view_name": "LayoutView",
            "align_content": null,
            "align_items": null,
            "align_self": null,
            "border": null,
            "bottom": null,
            "display": null,
            "flex": null,
            "flex_flow": null,
            "grid_area": null,
            "grid_auto_columns": null,
            "grid_auto_flow": null,
            "grid_auto_rows": null,
            "grid_column": null,
            "grid_gap": null,
            "grid_row": null,
            "grid_template_areas": null,
            "grid_template_columns": null,
            "grid_template_rows": null,
            "height": null,
            "justify_content": null,
            "justify_items": null,
            "left": null,
            "margin": null,
            "max_height": null,
            "max_width": null,
            "min_height": null,
            "min_width": null,
            "object_fit": null,
            "object_position": null,
            "order": null,
            "overflow": null,
            "overflow_x": null,
            "overflow_y": null,
            "padding": null,
            "right": null,
            "top": null,
            "visibility": null,
            "width": null
          }
        },
        "122ba55d0096474795a66df47c9a8a23": {
          "model_module": "@jupyter-widgets/controls",
          "model_module_version": "1.5.0",
          "model_name": "ProgressStyleModel",
          "state": {
            "_model_module": "@jupyter-widgets/controls",
            "_model_module_version": "1.5.0",
            "_model_name": "ProgressStyleModel",
            "_view_count": null,
            "_view_module": "@jupyter-widgets/base",
            "_view_module_version": "1.2.0",
            "_view_name": "StyleView",
            "bar_color": null,
            "description_width": ""
          }
        },
        "2eb89f97603045288d59c9cfa01094e4": {
          "model_module": "@jupyter-widgets/controls",
          "model_module_version": "1.5.0",
          "model_name": "HTMLModel",
          "state": {
            "_dom_classes": [],
            "_model_module": "@jupyter-widgets/controls",
            "_model_module_version": "1.5.0",
            "_model_name": "HTMLModel",
            "_view_count": null,
            "_view_module": "@jupyter-widgets/controls",
            "_view_module_version": "1.5.0",
            "_view_name": "HTMLView",
            "description": "",
            "description_tooltip": null,
            "layout": "IPY_MODEL_08cf69f6809b45579d30c27cfa547e48",
            "placeholder": "​",
            "style": "IPY_MODEL_82b976fe8eb848738ec3af031a238d94",
            "value": "Loading checkpoint shards: 100%"
          }
        },
        "6cd77438ae5a4b3d8b73b75712fa4b90": {
          "model_module": "@jupyter-widgets/base",
          "model_module_version": "1.2.0",
          "model_name": "LayoutModel",
          "state": {
            "_model_module": "@jupyter-widgets/base",
            "_model_module_version": "1.2.0",
            "_model_name": "LayoutModel",
            "_view_count": null,
            "_view_module": "@jupyter-widgets/base",
            "_view_module_version": "1.2.0",
            "_view_name": "LayoutView",
            "align_content": null,
            "align_items": "center",
            "align_self": null,
            "border": null,
            "bottom": null,
            "display": "flex",
            "flex": null,
            "flex_flow": "column",
            "grid_area": null,
            "grid_auto_columns": null,
            "grid_auto_flow": null,
            "grid_auto_rows": null,
            "grid_column": null,
            "grid_gap": null,
            "grid_row": null,
            "grid_template_areas": null,
            "grid_template_columns": null,
            "grid_template_rows": null,
            "height": null,
            "justify_content": null,
            "justify_items": null,
            "left": null,
            "margin": null,
            "max_height": null,
            "max_width": null,
            "min_height": null,
            "min_width": null,
            "object_fit": null,
            "object_position": null,
            "order": null,
            "overflow": null,
            "overflow_x": null,
            "overflow_y": null,
            "padding": null,
            "right": null,
            "top": null,
            "visibility": null,
            "width": "50%"
          }
        },
        "6f369208e4334d17bccc9a1f3edb01a8": {
          "model_module": "@jupyter-widgets/controls",
          "model_module_version": "1.5.0",
          "model_name": "HBoxModel",
          "state": {
            "_dom_classes": [],
            "_model_module": "@jupyter-widgets/controls",
            "_model_module_version": "1.5.0",
            "_model_name": "HBoxModel",
            "_view_count": null,
            "_view_module": "@jupyter-widgets/controls",
            "_view_module_version": "1.5.0",
            "_view_name": "HBoxView",
            "box_style": "",
            "children": [
              "IPY_MODEL_2eb89f97603045288d59c9cfa01094e4",
              "IPY_MODEL_df583afa8c774bf2b0dfef38b5856d11",
              "IPY_MODEL_8ea239e4d5f849f2942fb702ce7dd759"
            ],
            "layout": "IPY_MODEL_6f4d191629b240608e7195a26fff22e0"
          }
        },
        "6f4d191629b240608e7195a26fff22e0": {
          "model_module": "@jupyter-widgets/base",
          "model_module_version": "1.2.0",
          "model_name": "LayoutModel",
          "state": {
            "_model_module": "@jupyter-widgets/base",
            "_model_module_version": "1.2.0",
            "_model_name": "LayoutModel",
            "_view_count": null,
            "_view_module": "@jupyter-widgets/base",
            "_view_module_version": "1.2.0",
            "_view_name": "LayoutView",
            "align_content": null,
            "align_items": null,
            "align_self": null,
            "border": null,
            "bottom": null,
            "display": null,
            "flex": null,
            "flex_flow": null,
            "grid_area": null,
            "grid_auto_columns": null,
            "grid_auto_flow": null,
            "grid_auto_rows": null,
            "grid_column": null,
            "grid_gap": null,
            "grid_row": null,
            "grid_template_areas": null,
            "grid_template_columns": null,
            "grid_template_rows": null,
            "height": null,
            "justify_content": null,
            "justify_items": null,
            "left": null,
            "margin": null,
            "max_height": null,
            "max_width": null,
            "min_height": null,
            "min_width": null,
            "object_fit": null,
            "object_position": null,
            "order": null,
            "overflow": null,
            "overflow_x": null,
            "overflow_y": null,
            "padding": null,
            "right": null,
            "top": null,
            "visibility": null,
            "width": null
          }
        },
        "82b976fe8eb848738ec3af031a238d94": {
          "model_module": "@jupyter-widgets/controls",
          "model_module_version": "1.5.0",
          "model_name": "DescriptionStyleModel",
          "state": {
            "_model_module": "@jupyter-widgets/controls",
            "_model_module_version": "1.5.0",
            "_model_name": "DescriptionStyleModel",
            "_view_count": null,
            "_view_module": "@jupyter-widgets/base",
            "_view_module_version": "1.2.0",
            "_view_name": "StyleView",
            "description_width": ""
          }
        },
        "8ea239e4d5f849f2942fb702ce7dd759": {
          "model_module": "@jupyter-widgets/controls",
          "model_module_version": "1.5.0",
          "model_name": "HTMLModel",
          "state": {
            "_dom_classes": [],
            "_model_module": "@jupyter-widgets/controls",
            "_model_module_version": "1.5.0",
            "_model_name": "HTMLModel",
            "_view_count": null,
            "_view_module": "@jupyter-widgets/controls",
            "_view_module_version": "1.5.0",
            "_view_name": "HTMLView",
            "description": "",
            "description_tooltip": null,
            "layout": "IPY_MODEL_e2f4ad454af546b5a25e3591c71e7c8f",
            "placeholder": "​",
            "style": "IPY_MODEL_bfc44d950d4646598e5006b915da6eae",
            "value": " 2/2 [00:19&lt;00:00,  8.09s/it]"
          }
        },
        "bfc44d950d4646598e5006b915da6eae": {
          "model_module": "@jupyter-widgets/controls",
          "model_module_version": "1.5.0",
          "model_name": "DescriptionStyleModel",
          "state": {
            "_model_module": "@jupyter-widgets/controls",
            "_model_module_version": "1.5.0",
            "_model_name": "DescriptionStyleModel",
            "_view_count": null,
            "_view_module": "@jupyter-widgets/base",
            "_view_module_version": "1.2.0",
            "_view_name": "StyleView",
            "description_width": ""
          }
        },
        "c846bb6d19c5483fa3641bd6bda7e217": {
          "model_module": "@jupyter-widgets/base",
          "model_module_version": "1.2.0",
          "model_name": "LayoutModel",
          "state": {
            "_model_module": "@jupyter-widgets/base",
            "_model_module_version": "1.2.0",
            "_model_name": "LayoutModel",
            "_view_count": null,
            "_view_module": "@jupyter-widgets/base",
            "_view_module_version": "1.2.0",
            "_view_name": "LayoutView",
            "align_content": null,
            "align_items": null,
            "align_self": null,
            "border": null,
            "bottom": null,
            "display": null,
            "flex": null,
            "flex_flow": null,
            "grid_area": null,
            "grid_auto_columns": null,
            "grid_auto_flow": null,
            "grid_auto_rows": null,
            "grid_column": null,
            "grid_gap": null,
            "grid_row": null,
            "grid_template_areas": null,
            "grid_template_columns": null,
            "grid_template_rows": null,
            "height": null,
            "justify_content": null,
            "justify_items": null,
            "left": null,
            "margin": null,
            "max_height": null,
            "max_width": null,
            "min_height": null,
            "min_width": null,
            "object_fit": null,
            "object_position": null,
            "order": null,
            "overflow": null,
            "overflow_x": null,
            "overflow_y": null,
            "padding": null,
            "right": null,
            "top": null,
            "visibility": null,
            "width": null
          }
        },
        "dc2d4501d8e84f94a5d2c89de6348b13": {
          "model_module": "@jupyter-widgets/controls",
          "model_module_version": "1.5.0",
          "model_name": "VBoxModel",
          "state": {
            "_dom_classes": [],
            "_model_module": "@jupyter-widgets/controls",
            "_model_module_version": "1.5.0",
            "_model_name": "VBoxModel",
            "_view_count": null,
            "_view_module": "@jupyter-widgets/controls",
            "_view_module_version": "1.5.0",
            "_view_name": "VBoxView",
            "box_style": "",
            "children": [],
            "layout": "IPY_MODEL_6cd77438ae5a4b3d8b73b75712fa4b90"
          }
        },
        "df583afa8c774bf2b0dfef38b5856d11": {
          "model_module": "@jupyter-widgets/controls",
          "model_module_version": "1.5.0",
          "model_name": "FloatProgressModel",
          "state": {
            "_dom_classes": [],
            "_model_module": "@jupyter-widgets/controls",
            "_model_module_version": "1.5.0",
            "_model_name": "FloatProgressModel",
            "_view_count": null,
            "_view_module": "@jupyter-widgets/controls",
            "_view_module_version": "1.5.0",
            "_view_name": "ProgressView",
            "bar_style": "success",
            "description": "",
            "description_tooltip": null,
            "layout": "IPY_MODEL_c846bb6d19c5483fa3641bd6bda7e217",
            "max": 2,
            "min": 0,
            "orientation": "horizontal",
            "style": "IPY_MODEL_122ba55d0096474795a66df47c9a8a23",
            "value": 2
          }
        },
        "e2f4ad454af546b5a25e3591c71e7c8f": {
          "model_module": "@jupyter-widgets/base",
          "model_module_version": "1.2.0",
          "model_name": "LayoutModel",
          "state": {
            "_model_module": "@jupyter-widgets/base",
            "_model_module_version": "1.2.0",
            "_model_name": "LayoutModel",
            "_view_count": null,
            "_view_module": "@jupyter-widgets/base",
            "_view_module_version": "1.2.0",
            "_view_name": "LayoutView",
            "align_content": null,
            "align_items": null,
            "align_self": null,
            "border": null,
            "bottom": null,
            "display": null,
            "flex": null,
            "flex_flow": null,
            "grid_area": null,
            "grid_auto_columns": null,
            "grid_auto_flow": null,
            "grid_auto_rows": null,
            "grid_column": null,
            "grid_gap": null,
            "grid_row": null,
            "grid_template_areas": null,
            "grid_template_columns": null,
            "grid_template_rows": null,
            "height": null,
            "justify_content": null,
            "justify_items": null,
            "left": null,
            "margin": null,
            "max_height": null,
            "max_width": null,
            "min_height": null,
            "min_width": null,
            "object_fit": null,
            "object_position": null,
            "order": null,
            "overflow": null,
            "overflow_x": null,
            "overflow_y": null,
            "padding": null,
            "right": null,
            "top": null,
            "visibility": null,
            "width": null
          }
        }
      }
    }
  },
  "nbformat": 4,
  "nbformat_minor": 0
}